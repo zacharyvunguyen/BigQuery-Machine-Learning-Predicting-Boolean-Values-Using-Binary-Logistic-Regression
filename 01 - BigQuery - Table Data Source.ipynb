{
 "cells": [
  {
   "cell_type": "markdown",
   "id": "c28f7fa2",
   "metadata": {},
   "source": [
    "# 01 - BigQuery - Table Data Source\n",
    "Use BigQuery to load and prepare data for machine learning:\n",
    "\n",
    "### Video Walkthrough of this notebook:\n",
    "Includes conversational walkthrough and more explanatory information than the notebook:\n",
    "<p><center><a href=\"https://youtu.be/Z5whg20WvS8\" target=\"_blank\" rel=\"noopener noreferrer\"><img src=\"architectures/thumbnails/playbutton/01.png\" width=\"50%\"></a></center></p>\n",
    "\n",
    "### Prerequisites:\n",
    "-  00 - Environment Setup\n",
    "\n",
    "### Overview:\n",
    "-  Setup BigQuery\n",
    "   -  Create a Dataset\n",
    "      -  Use BigQuery Python Client\n",
    "   -  Create Tables\n",
    "      -  Copy from another Project:Dataset\n",
    "         -  SQL with BigQuery Jupyter Magic (%%bigquery)\n",
    "      -  Load data from GCS Bucket\n",
    "         -  BigQuery Python Client (load_table_from_uri)\n",
    "   -  Prepare Data For Analysis\n",
    "      -  Run SQL Queries to prepare Unique ID's and Train/Test Splits\n",
    "\n",
    "### Resources:\n",
    "-  [Python Client For Google BigQuery](https://googleapis.dev/python/bigquery/latest/index.html)\n",
    "-  [Download BigQuery Data to Pandas](https://cloud.google.com/bigquery/docs/bigquery-storage-python-pandas)\n",
    "-  [BigQuery Template Notebooks](https://github.com/GoogleCloudPlatform/bigquery-notebooks/tree/main/notebooks/official/template_notebooks)\n",
    "\n"
   ]
  },
  {
   "cell_type": "markdown",
   "id": "5d0c695d-002d-48ca-9d52-839f95fdfee0",
   "metadata": {},
   "source": [
    "---\n",
    "## Source Data\n",
    "\n",
    "**Overview**\n",
    "\n",
    "This notebook imports source data for this project into Google BigQuery.  All the remaining notebooks utilize BigQuery as the source and leverage API's native to the machine learning approaches they feature.\n",
    "\n",
    "In the enviornment setup notebook (00), a BigQuery source table was exported to CSV format in a Cloud Storage Bucket. This notebook, `01 - BigQuery - Table Data Source`, start the machine learning lifecycle by importing a source and preparing it for machine learning.  To customize this series of notebooks change the source referenced here or in notebook `00 - Environment Setup`.\n",
    "\n",
    "All of these workflows utilize tabular data to fit a supervised learning model: predict a target variable by learning patterns in feature columns.  The type of supervised learning used in these projects is classification: models with a target variable that has multiple discrete classes.  \n",
    "\n",
    "**The Data**\n",
    "\n",
    "The source data is exported to Google Cloud Storage in CSV format by the `00 - Environment Setup` notebook.  The BigQuery source table is `bigquery-public-data.ml_datasets.ulb_fraud_detection`.  This is a table of credit card transactions that are classified as fradulant, `Class = 1`, or normal `Class = 0`.  \n",
    "\n",
    "The data can be researched further at this [Kaggle link](https://www.kaggle.com/mlg-ulb/creditcardfraud).\n",
    "\n",
    "**Description of the Data**\n",
    "\n",
    "This is a table of 284,207 credit card transactions classified as fradulant or normal in the column `Class`.  In order protect confidentiality, the original features have been transformed using [principle component analysis (PCA)](https://en.wikipedia.org/wiki/Principal_component_analysis) into 28 features named `V1, V2, ... V28` (float).  Two descriptive features are provided without transformation by PCA:\n",
    "- `Time` (integer) is the seconds elapsed between the transaction and the earliest transaction in the table\n",
    "- `Amount` (float) is the value of the transaction\n",
    ">**Quick Note on PCA**\n",
    "\n",
    ">PCA is an unsupervised learning technique: there is not a target variable.  PCA is commonlly used as a variable/feature reduction technique.  If you have 100 features then you could reduce it to a number p (say 10) projected features.  The choice of this number is a balance of how well it can explain the variance of the full feature space and reducing the number of features.  Each projected feature is orthogonal to each other feature, meaning there is no correlation between these new projected features.\n",
    "\n",
    "**Preparation of the Data**\n",
    "\n",
    "This notebook adds two columns to the source data and stores it in a new table with suffix `_prepped`.  \n",
    "- `transaction_id` (string) a unique id for the row/transaction\n",
    "- `splits` (string) this divided the tranactions into sets for `TRAIN` (80%), `VALIDATA` (10%), and `TEST` (10%)"
   ]
  },
  {
   "cell_type": "markdown",
   "id": "a5046940",
   "metadata": {},
   "source": [
    "---\n",
    "## Setup"
   ]
  },
  {
   "cell_type": "markdown",
   "id": "a0ae60b2",
   "metadata": {},
   "source": [
    "inputs:"
   ]
  },
  {
   "cell_type": "code",
   "execution_count": 1,
   "id": "56a5bc43",
   "metadata": {},
   "outputs": [],
   "source": [
    "PROJECT_ID = \"nguyen-demo5\"\n",
    "REGION = 'us-central1'\n",
    "DATANAME = 'taxi'\n",
    "NOTEBOOK = '01'"
   ]
  },
  {
   "cell_type": "markdown",
   "id": "e4a963be",
   "metadata": {},
   "source": [
    "packages:"
   ]
  },
  {
   "cell_type": "code",
   "execution_count": 2,
   "id": "8a37b83a",
   "metadata": {},
   "outputs": [],
   "source": [
    "from google.cloud import bigquery"
   ]
  },
  {
   "cell_type": "markdown",
   "id": "e24cebb6",
   "metadata": {},
   "source": [
    "clients:"
   ]
  },
  {
   "cell_type": "code",
   "execution_count": 3,
   "id": "9e515410",
   "metadata": {},
   "outputs": [],
   "source": [
    "bq = bigquery.Client(project = PROJECT_ID)"
   ]
  },
  {
   "cell_type": "markdown",
   "id": "a6601398",
   "metadata": {},
   "source": [
    "parameters:"
   ]
  },
  {
   "cell_type": "code",
   "execution_count": 4,
   "id": "1f1e2af3",
   "metadata": {},
   "outputs": [],
   "source": [
    "BUCKET = PROJECT_ID"
   ]
  },
  {
   "cell_type": "markdown",
   "id": "7685eddc",
   "metadata": {},
   "source": [
    "---\n",
    "## Create Dataset"
   ]
  },
  {
   "cell_type": "markdown",
   "id": "c77cab37",
   "metadata": {},
   "source": [
    "List BigQuery datasets in the project:"
   ]
  },
  {
   "cell_type": "code",
   "execution_count": 5,
   "id": "2b49b948-5fa8-4d4e-a7d3-b2adb19362c4",
   "metadata": {},
   "outputs": [
    {
     "data": {
      "text/html": [
       "<div>\n",
       "<style scoped>\n",
       "    .dataframe tbody tr th:only-of-type {\n",
       "        vertical-align: middle;\n",
       "    }\n",
       "\n",
       "    .dataframe tbody tr th {\n",
       "        vertical-align: top;\n",
       "    }\n",
       "\n",
       "    .dataframe thead th {\n",
       "        text-align: right;\n",
       "    }\n",
       "</style>\n",
       "<table border=\"1\" class=\"dataframe\">\n",
       "  <thead>\n",
       "    <tr style=\"text-align: right;\">\n",
       "      <th></th>\n",
       "      <th>schema_name</th>\n",
       "    </tr>\n",
       "  </thead>\n",
       "  <tbody>\n",
       "  </tbody>\n",
       "</table>\n",
       "</div>"
      ],
      "text/plain": [
       "Empty DataFrame\n",
       "Columns: [schema_name]\n",
       "Index: []"
      ]
     },
     "execution_count": 5,
     "metadata": {},
     "output_type": "execute_result"
    }
   ],
   "source": [
    "query = f\"\"\"\n",
    "SELECT schema_name\n",
    "FROM `{PROJECT_ID}.INFORMATION_SCHEMA.SCHEMATA`\n",
    "\"\"\"\n",
    "bq.query(query = query).to_dataframe()"
   ]
  },
  {
   "cell_type": "markdown",
   "id": "3b0b3aca",
   "metadata": {},
   "source": [
    "Create the dataset if missing:"
   ]
  },
  {
   "cell_type": "code",
   "execution_count": 6,
   "id": "ab1e1c54-d15e-41c6-9bce-920baf197a8d",
   "metadata": {},
   "outputs": [
    {
     "data": {
      "text/plain": [
       "<google.cloud.bigquery.table._EmptyRowIterator at 0x7f92ad22f610>"
      ]
     },
     "execution_count": 6,
     "metadata": {},
     "output_type": "execute_result"
    }
   ],
   "source": [
    "query = f\"\"\"\n",
    "CREATE SCHEMA IF NOT EXISTS `{PROJECT_ID}.{DATANAME}`\n",
    "OPTIONS(\n",
    "    location = '{REGION}',\n",
    "    labels = [('notebook','{NOTEBOOK}')]\n",
    ")\n",
    "\"\"\"\n",
    "job = bq.query(query = query)\n",
    "job.result()"
   ]
  },
  {
   "cell_type": "code",
   "execution_count": 7,
   "id": "c03d42f2-872b-450e-82ac-158ccfe6ad53",
   "metadata": {},
   "outputs": [
    {
     "data": {
      "text/plain": [
       "0.179"
      ]
     },
     "execution_count": 7,
     "metadata": {},
     "output_type": "execute_result"
    }
   ],
   "source": [
    "(job.ended-job.started).total_seconds()"
   ]
  },
  {
   "cell_type": "markdown",
   "id": "34eeac68",
   "metadata": {},
   "source": [
    "---\n",
    "## Create Table\n",
    "- import data from Cloud Storage Bucket\n",
    "- https://cloud.google.com/bigquery/docs/loading-data-cloud-storage-csv"
   ]
  },
  {
   "cell_type": "code",
   "execution_count": 8,
   "id": "86063a1e",
   "metadata": {},
   "outputs": [
    {
     "data": {
      "text/plain": [
       "LoadJob<project=nguyen-demo5, location=us-central1, id=01da02bf-f2d7-4d85-8e76-fe0e6a950301>"
      ]
     },
     "execution_count": 8,
     "metadata": {},
     "output_type": "execute_result"
    }
   ],
   "source": [
    "destination = bigquery.TableReference.from_string(f\"{PROJECT_ID}.{DATANAME}.{DATANAME}\")\n",
    "job_config = bigquery.LoadJobConfig(\n",
    "    write_disposition = 'WRITE_TRUNCATE',\n",
    "    source_format = bigquery.SourceFormat.CSV,\n",
    "    autodetect = True,\n",
    "    labels = {'notebook':f'{NOTEBOOK}'}\n",
    ")\n",
    "job = bq.load_table_from_uri(f\"gs://{BUCKET}/{DATANAME}/data/{DATANAME}_*.csv\", destination, job_config = job_config)\n",
    "job.result()"
   ]
  },
  {
   "cell_type": "code",
   "execution_count": 9,
   "id": "15201c64",
   "metadata": {},
   "outputs": [
    {
     "data": {
      "text/plain": [
       "31.818"
      ]
     },
     "execution_count": 9,
     "metadata": {},
     "output_type": "execute_result"
    }
   ],
   "source": [
    "(job.ended-job.started).total_seconds()"
   ]
  },
  {
   "cell_type": "markdown",
   "id": "e85ccdce-e6a9-4735-9997-e5ae77a6f86c",
   "metadata": {},
   "source": [
    "### Check out this table in BigQuery Console:\n",
    "- Click: https://console.cloud.google.com/bigquery\n",
    "- Make sure project selected is the one from this notebook\n",
    "- Under Explore, expand this project and review the dataset and table"
   ]
  },
  {
   "cell_type": "markdown",
   "id": "2f133efb-8232-4b21-814f-23b815dc60f2",
   "metadata": {},
   "source": [
    "---\n",
    "## Review Data\n",
    "Additional SQL queries could be used to review the data.  This section shows moving the table to a Pandas dataframe for local review in Python:"
   ]
  },
  {
   "cell_type": "code",
   "execution_count": null,
   "id": "f4ebf6f5-a178-4011-9ab6-fa8329c578c9",
   "metadata": {},
   "outputs": [],
   "source": [
    "#query = f\"\"\"\n",
    "#SELECT *\n",
    "#FROM `{DATANAME}.{DATANAME}`\n",
    "#\"\"\"\n",
    "#df = bq.query(query = query).to_dataframe()"
   ]
  },
  {
   "cell_type": "markdown",
   "id": "35b34894",
   "metadata": {},
   "source": [
    "---\n",
    "## Prepare Data for Analysis"
   ]
  },
  {
   "cell_type": "markdown",
   "id": "4c982157",
   "metadata": {},
   "source": [
    "Create a prepped version of the data with test/train splits using SQL DDL:"
   ]
  },
  {
   "cell_type": "code",
   "execution_count": 6,
   "id": "a50becbb-60ab-45f9-acd5-9beb5b6755f0",
   "metadata": {},
   "outputs": [
    {
     "data": {
      "text/plain": [
       "<google.cloud.bigquery.table._EmptyRowIterator at 0x7f66a5355ed0>"
      ]
     },
     "execution_count": 6,
     "metadata": {},
     "output_type": "execute_result"
    }
   ],
   "source": [
    "query = f\"\"\"\n",
    "CREATE OR REPLACE TABLE `{DATANAME}.{DATANAME}_notnull` AS\n",
    "SELECT\n",
    "  *\n",
    "FROM\n",
    "  `{DATANAME}.{DATANAME}`\n",
    "WHERE\n",
    "  tips IS NOT NULL\n",
    "  AND trip_seconds IS NOT NULL\n",
    "  AND trip_miles IS NOT NULL\n",
    "  AND fare IS NOT NULL\n",
    "  AND tolls IS NOT NULL\n",
    "  AND pickup_location IS NOT NULL\n",
    "  AND dropoff_location IS NOT NULL\n",
    "  AND pickup_latitude IS NOT NULL\n",
    "  AND pickup_longitude IS NOT NULL\n",
    "  AND dropoff_latitude IS NOT NULL\n",
    "  AND dropoff_longitude IS NOT NULL\n",
    "  AND company IS NOT NULL\n",
    "  AND trip_miles > 1\n",
    "  AND trip_seconds > 180\n",
    "\"\"\"\n",
    "job = bq.query(query = query)\n",
    "job.result()"
   ]
  },
  {
   "cell_type": "code",
   "execution_count": 7,
   "id": "77d6e2a9-ec35-477c-9d50-429326acc41d",
   "metadata": {},
   "outputs": [
    {
     "data": {
      "text/plain": [
       "16.921"
      ]
     },
     "execution_count": 7,
     "metadata": {},
     "output_type": "execute_result"
    }
   ],
   "source": [
    "(job.ended-job.started).total_seconds()"
   ]
  },
  {
   "cell_type": "code",
   "execution_count": 8,
   "id": "a991ff73-a545-4eed-a709-b8292efd89ca",
   "metadata": {},
   "outputs": [
    {
     "data": {
      "text/plain": [
       "73020.187269"
      ]
     },
     "execution_count": 8,
     "metadata": {},
     "output_type": "execute_result"
    }
   ],
   "source": [
    "job.estimated_bytes_processed/1000000 #MB"
   ]
  },
  {
   "cell_type": "markdown",
   "id": "372b2c41",
   "metadata": {},
   "source": [
    "Review the test/train split:"
   ]
  },
  {
   "cell_type": "code",
   "execution_count": 9,
   "id": "4a94adb9-81d7-4710-ac50-e0d93dd5523a",
   "metadata": {},
   "outputs": [
    {
     "data": {
      "text/html": [
       "<div>\n",
       "<style scoped>\n",
       "    .dataframe tbody tr th:only-of-type {\n",
       "        vertical-align: middle;\n",
       "    }\n",
       "\n",
       "    .dataframe tbody tr th {\n",
       "        vertical-align: top;\n",
       "    }\n",
       "\n",
       "    .dataframe thead th {\n",
       "        text-align: right;\n",
       "    }\n",
       "</style>\n",
       "<table border=\"1\" class=\"dataframe\">\n",
       "  <thead>\n",
       "    <tr style=\"text-align: right;\">\n",
       "      <th></th>\n",
       "      <th>payment_type</th>\n",
       "      <th>Count</th>\n",
       "      <th>Percentage</th>\n",
       "    </tr>\n",
       "  </thead>\n",
       "  <tbody>\n",
       "    <tr>\n",
       "      <th>0</th>\n",
       "      <td>Credit Card</td>\n",
       "      <td>26052429</td>\n",
       "      <td>46.395976</td>\n",
       "    </tr>\n",
       "    <tr>\n",
       "      <th>1</th>\n",
       "      <td>Pcard</td>\n",
       "      <td>7018</td>\n",
       "      <td>0.012498</td>\n",
       "    </tr>\n",
       "    <tr>\n",
       "      <th>2</th>\n",
       "      <td>Prcard</td>\n",
       "      <td>942643</td>\n",
       "      <td>1.678724</td>\n",
       "    </tr>\n",
       "    <tr>\n",
       "      <th>3</th>\n",
       "      <td>No Charge</td>\n",
       "      <td>276520</td>\n",
       "      <td>0.492446</td>\n",
       "    </tr>\n",
       "    <tr>\n",
       "      <th>4</th>\n",
       "      <td>Unknown</td>\n",
       "      <td>466041</td>\n",
       "      <td>0.829958</td>\n",
       "    </tr>\n",
       "    <tr>\n",
       "      <th>5</th>\n",
       "      <td>Dispute</td>\n",
       "      <td>33859</td>\n",
       "      <td>0.060298</td>\n",
       "    </tr>\n",
       "    <tr>\n",
       "      <th>6</th>\n",
       "      <td>Way2ride</td>\n",
       "      <td>75</td>\n",
       "      <td>0.000134</td>\n",
       "    </tr>\n",
       "    <tr>\n",
       "      <th>7</th>\n",
       "      <td>Prepaid</td>\n",
       "      <td>1267</td>\n",
       "      <td>0.002256</td>\n",
       "    </tr>\n",
       "    <tr>\n",
       "      <th>8</th>\n",
       "      <td>Cash</td>\n",
       "      <td>27759141</td>\n",
       "      <td>49.435407</td>\n",
       "    </tr>\n",
       "    <tr>\n",
       "      <th>9</th>\n",
       "      <td>Split</td>\n",
       "      <td>2263</td>\n",
       "      <td>0.004030</td>\n",
       "    </tr>\n",
       "    <tr>\n",
       "      <th>10</th>\n",
       "      <td>Mobile</td>\n",
       "      <td>611090</td>\n",
       "      <td>1.088272</td>\n",
       "    </tr>\n",
       "  </tbody>\n",
       "</table>\n",
       "</div>"
      ],
      "text/plain": [
       "   payment_type     Count  Percentage\n",
       "0   Credit Card  26052429   46.395976\n",
       "1         Pcard      7018    0.012498\n",
       "2        Prcard    942643    1.678724\n",
       "3     No Charge    276520    0.492446\n",
       "4       Unknown    466041    0.829958\n",
       "5       Dispute     33859    0.060298\n",
       "6      Way2ride        75    0.000134\n",
       "7       Prepaid      1267    0.002256\n",
       "8          Cash  27759141   49.435407\n",
       "9         Split      2263    0.004030\n",
       "10       Mobile    611090    1.088272"
      ]
     },
     "execution_count": 9,
     "metadata": {},
     "output_type": "execute_result"
    }
   ],
   "source": [
    "query = f\"\"\"\n",
    "SELECT payment_type, count(*) as Count, 100*count(*) / (sum(count(*)) OVER()) as Percentage\n",
    "FROM `{DATANAME}.{DATANAME}_notnull`\n",
    "GROUP BY payment_type\n",
    "\"\"\"\n",
    "bq.query(query = query).to_dataframe()"
   ]
  },
  {
   "cell_type": "markdown",
   "id": "3006ed11",
   "metadata": {},
   "source": [
    "Retrieve a subset of the data to a Pandas dataframe:"
   ]
  },
  {
   "cell_type": "code",
   "execution_count": 10,
   "id": "2ea70141-07db-46b0-a31e-0968befcd37b",
   "metadata": {},
   "outputs": [],
   "source": [
    "query = f\"\"\"\n",
    "SELECT * \n",
    "FROM `{DATANAME}.{DATANAME}_notnull`\n",
    "LIMIT 5\n",
    "\"\"\"\n",
    "data = bq.query(query = query).to_dataframe()"
   ]
  },
  {
   "cell_type": "code",
   "execution_count": 11,
   "id": "326d2b3d",
   "metadata": {},
   "outputs": [
    {
     "data": {
      "text/html": [
       "<div>\n",
       "<style scoped>\n",
       "    .dataframe tbody tr th:only-of-type {\n",
       "        vertical-align: middle;\n",
       "    }\n",
       "\n",
       "    .dataframe tbody tr th {\n",
       "        vertical-align: top;\n",
       "    }\n",
       "\n",
       "    .dataframe thead th {\n",
       "        text-align: right;\n",
       "    }\n",
       "</style>\n",
       "<table border=\"1\" class=\"dataframe\">\n",
       "  <thead>\n",
       "    <tr style=\"text-align: right;\">\n",
       "      <th></th>\n",
       "      <th>unique_key</th>\n",
       "      <th>taxi_id</th>\n",
       "      <th>trip_start_timestamp</th>\n",
       "      <th>trip_end_timestamp</th>\n",
       "      <th>trip_seconds</th>\n",
       "      <th>trip_miles</th>\n",
       "      <th>pickup_census_tract</th>\n",
       "      <th>dropoff_census_tract</th>\n",
       "      <th>pickup_community_area</th>\n",
       "      <th>dropoff_community_area</th>\n",
       "      <th>...</th>\n",
       "      <th>extras</th>\n",
       "      <th>trip_total</th>\n",
       "      <th>payment_type</th>\n",
       "      <th>company</th>\n",
       "      <th>pickup_latitude</th>\n",
       "      <th>pickup_longitude</th>\n",
       "      <th>pickup_location</th>\n",
       "      <th>dropoff_latitude</th>\n",
       "      <th>dropoff_longitude</th>\n",
       "      <th>dropoff_location</th>\n",
       "    </tr>\n",
       "  </thead>\n",
       "  <tbody>\n",
       "    <tr>\n",
       "      <th>0</th>\n",
       "      <td>90755b02fda6a5d8734e4c2d86e6d43182e1c2b5</td>\n",
       "      <td>b'\\xe7\\xd7\\xdc\\xf3m9\\xed\\xbew\\xed\\xad6\\xd3\\xad...</td>\n",
       "      <td>2019-12-24 06:30:00+00:00</td>\n",
       "      <td>2019-12-24 06:45:00+00:00</td>\n",
       "      <td>1080</td>\n",
       "      <td>2.6</td>\n",
       "      <td>NaN</td>\n",
       "      <td>NaN</td>\n",
       "      <td>14</td>\n",
       "      <td>14</td>\n",
       "      <td>...</td>\n",
       "      <td>0.0</td>\n",
       "      <td>14.50</td>\n",
       "      <td>Credit Card</td>\n",
       "      <td>Taxi Affiliation Services</td>\n",
       "      <td>41.968069</td>\n",
       "      <td>-87.721559</td>\n",
       "      <td>POINT (-87.7215590627 41.968069)</td>\n",
       "      <td>41.968069</td>\n",
       "      <td>-87.721559063</td>\n",
       "      <td>POINT (-87.7215590627 41.968069)</td>\n",
       "    </tr>\n",
       "    <tr>\n",
       "      <th>1</th>\n",
       "      <td>926c8e1e8d65809692f516c3b0c2d7597fa50657</td>\n",
       "      <td>b'\\xd7\\xbeZ\\xe7\\xcd\\xbd\\xf5\\xa7\\xf7k\\xc7&lt;\\xf3~...</td>\n",
       "      <td>2014-07-11 20:15:00+00:00</td>\n",
       "      <td>2014-07-11 20:30:00+00:00</td>\n",
       "      <td>480</td>\n",
       "      <td>1.1</td>\n",
       "      <td>NaN</td>\n",
       "      <td>NaN</td>\n",
       "      <td>14</td>\n",
       "      <td>14</td>\n",
       "      <td>...</td>\n",
       "      <td>0.0</td>\n",
       "      <td>6.25</td>\n",
       "      <td>Cash</td>\n",
       "      <td>Taxi Affiliation Services</td>\n",
       "      <td>41.968069</td>\n",
       "      <td>-87.721559</td>\n",
       "      <td>POINT (-87.7215590627 41.968069)</td>\n",
       "      <td>41.968069</td>\n",
       "      <td>-87.721559063</td>\n",
       "      <td>POINT (-87.7215590627 41.968069)</td>\n",
       "    </tr>\n",
       "    <tr>\n",
       "      <th>2</th>\n",
       "      <td>4e2b46ec348f7a27e84f937e97d3abfce4380259</td>\n",
       "      <td>b'\\x7f\\xde\\xb4q\\xa7\\xb7\\xf1\\xaf\\x1f\\xe1\\xb7\\xd...</td>\n",
       "      <td>2016-09-04 02:00:00+00:00</td>\n",
       "      <td>2016-09-04 02:15:00+00:00</td>\n",
       "      <td>932</td>\n",
       "      <td>28.8</td>\n",
       "      <td>NaN</td>\n",
       "      <td>NaN</td>\n",
       "      <td>14</td>\n",
       "      <td>14</td>\n",
       "      <td>...</td>\n",
       "      <td>1.0</td>\n",
       "      <td>12.50</td>\n",
       "      <td>Cash</td>\n",
       "      <td>Chicago Carriage Cab Corp</td>\n",
       "      <td>41.968069</td>\n",
       "      <td>-87.721559</td>\n",
       "      <td>POINT (-87.7215590627 41.968069)</td>\n",
       "      <td>41.968069</td>\n",
       "      <td>-87.721559063</td>\n",
       "      <td>POINT (-87.7215590627 41.968069)</td>\n",
       "    </tr>\n",
       "    <tr>\n",
       "      <th>3</th>\n",
       "      <td>bf1ab4d268aea28e8f1699a1262f87e6d37ac1c1</td>\n",
       "      <td>b'\\xef\\xbf9s\\x87\\xba\\xf5\\xbe4q\\xcd9\\xe3\\xb6\\xb...</td>\n",
       "      <td>2016-12-27 15:00:00+00:00</td>\n",
       "      <td>2016-12-27 17:45:00+00:00</td>\n",
       "      <td>9840</td>\n",
       "      <td>18.4</td>\n",
       "      <td>NaN</td>\n",
       "      <td>NaN</td>\n",
       "      <td>14</td>\n",
       "      <td>14</td>\n",
       "      <td>...</td>\n",
       "      <td>0.0</td>\n",
       "      <td>67.50</td>\n",
       "      <td>Cash</td>\n",
       "      <td>Globe Taxi</td>\n",
       "      <td>41.968069</td>\n",
       "      <td>-87.721559</td>\n",
       "      <td>POINT (-87.7215590627 41.968069)</td>\n",
       "      <td>41.968069</td>\n",
       "      <td>-87.721559063</td>\n",
       "      <td>POINT (-87.7215590627 41.968069)</td>\n",
       "    </tr>\n",
       "    <tr>\n",
       "      <th>4</th>\n",
       "      <td>41cc1fa35d470268a4c8c71dda1f7308acec39fb</td>\n",
       "      <td>b'm\\xfd\\x1b\\xf7\\xce\\xdf\\xe3V\\xbcs~\\xbckN\\xf6u\\...</td>\n",
       "      <td>2017-02-24 22:15:00+00:00</td>\n",
       "      <td>2017-02-24 22:15:00+00:00</td>\n",
       "      <td>420</td>\n",
       "      <td>2.0</td>\n",
       "      <td>NaN</td>\n",
       "      <td>NaN</td>\n",
       "      <td>14</td>\n",
       "      <td>14</td>\n",
       "      <td>...</td>\n",
       "      <td>0.0</td>\n",
       "      <td>8.25</td>\n",
       "      <td>Cash</td>\n",
       "      <td>Chicago Taxicab</td>\n",
       "      <td>41.968069</td>\n",
       "      <td>-87.721559</td>\n",
       "      <td>POINT (-87.7215590627 41.968069)</td>\n",
       "      <td>41.968069</td>\n",
       "      <td>-87.721559063</td>\n",
       "      <td>POINT (-87.7215590627 41.968069)</td>\n",
       "    </tr>\n",
       "  </tbody>\n",
       "</table>\n",
       "<p>5 rows × 23 columns</p>\n",
       "</div>"
      ],
      "text/plain": [
       "                                 unique_key  \\\n",
       "0  90755b02fda6a5d8734e4c2d86e6d43182e1c2b5   \n",
       "1  926c8e1e8d65809692f516c3b0c2d7597fa50657   \n",
       "2  4e2b46ec348f7a27e84f937e97d3abfce4380259   \n",
       "3  bf1ab4d268aea28e8f1699a1262f87e6d37ac1c1   \n",
       "4  41cc1fa35d470268a4c8c71dda1f7308acec39fb   \n",
       "\n",
       "                                             taxi_id  \\\n",
       "0  b'\\xe7\\xd7\\xdc\\xf3m9\\xed\\xbew\\xed\\xad6\\xd3\\xad...   \n",
       "1  b'\\xd7\\xbeZ\\xe7\\xcd\\xbd\\xf5\\xa7\\xf7k\\xc7<\\xf3~...   \n",
       "2  b'\\x7f\\xde\\xb4q\\xa7\\xb7\\xf1\\xaf\\x1f\\xe1\\xb7\\xd...   \n",
       "3  b'\\xef\\xbf9s\\x87\\xba\\xf5\\xbe4q\\xcd9\\xe3\\xb6\\xb...   \n",
       "4  b'm\\xfd\\x1b\\xf7\\xce\\xdf\\xe3V\\xbcs~\\xbckN\\xf6u\\...   \n",
       "\n",
       "       trip_start_timestamp        trip_end_timestamp  trip_seconds  \\\n",
       "0 2019-12-24 06:30:00+00:00 2019-12-24 06:45:00+00:00          1080   \n",
       "1 2014-07-11 20:15:00+00:00 2014-07-11 20:30:00+00:00           480   \n",
       "2 2016-09-04 02:00:00+00:00 2016-09-04 02:15:00+00:00           932   \n",
       "3 2016-12-27 15:00:00+00:00 2016-12-27 17:45:00+00:00          9840   \n",
       "4 2017-02-24 22:15:00+00:00 2017-02-24 22:15:00+00:00           420   \n",
       "\n",
       "   trip_miles  pickup_census_tract  dropoff_census_tract  \\\n",
       "0         2.6                  NaN                   NaN   \n",
       "1         1.1                  NaN                   NaN   \n",
       "2        28.8                  NaN                   NaN   \n",
       "3        18.4                  NaN                   NaN   \n",
       "4         2.0                  NaN                   NaN   \n",
       "\n",
       "   pickup_community_area dropoff_community_area  ...  extras  trip_total  \\\n",
       "0                     14                     14  ...     0.0       14.50   \n",
       "1                     14                     14  ...     0.0        6.25   \n",
       "2                     14                     14  ...     1.0       12.50   \n",
       "3                     14                     14  ...     0.0       67.50   \n",
       "4                     14                     14  ...     0.0        8.25   \n",
       "\n",
       "   payment_type                    company  pickup_latitude pickup_longitude  \\\n",
       "0   Credit Card  Taxi Affiliation Services        41.968069       -87.721559   \n",
       "1          Cash  Taxi Affiliation Services        41.968069       -87.721559   \n",
       "2          Cash  Chicago Carriage Cab Corp        41.968069       -87.721559   \n",
       "3          Cash                 Globe Taxi        41.968069       -87.721559   \n",
       "4          Cash            Chicago Taxicab        41.968069       -87.721559   \n",
       "\n",
       "                    pickup_location  dropoff_latitude  dropoff_longitude  \\\n",
       "0  POINT (-87.7215590627 41.968069)         41.968069      -87.721559063   \n",
       "1  POINT (-87.7215590627 41.968069)         41.968069      -87.721559063   \n",
       "2  POINT (-87.7215590627 41.968069)         41.968069      -87.721559063   \n",
       "3  POINT (-87.7215590627 41.968069)         41.968069      -87.721559063   \n",
       "4  POINT (-87.7215590627 41.968069)         41.968069      -87.721559063   \n",
       "\n",
       "                   dropoff_location  \n",
       "0  POINT (-87.7215590627 41.968069)  \n",
       "1  POINT (-87.7215590627 41.968069)  \n",
       "2  POINT (-87.7215590627 41.968069)  \n",
       "3  POINT (-87.7215590627 41.968069)  \n",
       "4  POINT (-87.7215590627 41.968069)  \n",
       "\n",
       "[5 rows x 23 columns]"
      ]
     },
     "execution_count": 11,
     "metadata": {},
     "output_type": "execute_result"
    }
   ],
   "source": [
    "data.head()"
   ]
  },
  {
   "cell_type": "markdown",
   "id": "82d575d1",
   "metadata": {},
   "source": [
    "---\n",
    "## Remove Resources\n",
    "see notebook \"99 - Cleanup\""
   ]
  }
 ],
 "metadata": {
  "environment": {
   "kernel": "python3",
   "name": "tf2-gpu.2-3.m93",
   "type": "gcloud",
   "uri": "gcr.io/deeplearning-platform-release/tf2-gpu.2-3:m93"
  },
  "kernelspec": {
   "display_name": "Python 3",
   "language": "python",
   "name": "python3"
  },
  "language_info": {
   "codemirror_mode": {
    "name": "ipython",
    "version": 3
   },
   "file_extension": ".py",
   "mimetype": "text/x-python",
   "name": "python",
   "nbconvert_exporter": "python",
   "pygments_lexer": "ipython3",
   "version": "3.7.12"
  }
 },
 "nbformat": 4,
 "nbformat_minor": 5
}
