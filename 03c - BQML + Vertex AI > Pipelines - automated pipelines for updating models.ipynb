{
 "cells": [
  {
   "cell_type": "markdown",
   "id": "b12372ad-8740-403d-93ad-5ea651a5fda6",
   "metadata": {},
   "source": [
    "# 03c - BQML + Vertex AI > Pipelines - automated pipelines for updating models\n",
    "As time goes on change occurs:\n",
    "\n",
    "* inputs to our models may shift in distribution compared to when the model was trained - called training-serving skew\n",
    "* inputs to out models may shift over time - called prediction drift\n",
    "* new inputs/features may become available\n",
    "* a better model may be created\n",
    "<br>\n",
    "\n",
    "* In the 03b notebook we deployed the model built with BQML in the 03a notebook to a Vertex AI Endpoint for online prediction. \n",
    "* In this notebook we will build a challenger model with the same training data, also using BQML but with a different model type - a deep neural network similar what we build in the 05 series of ntoebooks. \n",
    "* We will construct a Vertex AI Pipeline to orchestrate the process of building the new model, comparing to the deployed mode, and conditionally replacing the deployed model with the new one.\n",
    "\n",
    "This process could be triggered based on time elapsed, amount of new data, detected training-serving skew or even prediction drift by using Vertex AI Monitoring."
   ]
  },
  {
   "cell_type": "markdown",
   "id": "f6a6277c-147b-4836-b87f-fd1b33b259c1",
   "metadata": {},
   "source": [
    "---\n",
    "## Prerequisites:\n",
    "03a - BigQuery Machine Learning (BQML) - Machine Learning with SQL\n",
    "03b - Vertex AI + BQML - Online Predictions with BQML Models\n",
    "\n",
    "---\n",
    "## Overview:\n",
    "* Build Custom Pipeline Components\n",
    "    * Use BigQuery ML to Get Predictions and Scikit-Learn to calculate model metrics\n",
    "    * Use BigQuery ML to train a new model - A Deep Neural Network\n",
    "    * Compare model metrics for baseline and challenger model\n",
    "    * Export BigQuery ML model to Google Cloud Storage\n",
    "    * Replace a model deployed to an endpoint (03b) with the challenger model, undeploy previous model\n",
    "* Define the Pipeline Flow\n",
    "* Compile the Pipeline\n",
    "* Run the Pipeline in Vertex AI\n",
    "* Get Predictions from the upated Endpoint"
   ]
  },
  {
   "cell_type": "markdown",
   "id": "4eafce52-961a-4739-a867-d0f25b43b6fb",
   "metadata": {},
   "source": [
    "---\n",
    "## Setup"
   ]
  },
  {
   "cell_type": "markdown",
   "id": "b9253e28-173e-44a0-9a0c-205dfdb6e610",
   "metadata": {},
   "source": [
    "Inputs:"
   ]
  },
  {
   "cell_type": "code",
   "execution_count": 1,
   "id": "be10f36c-4b93-419e-935c-cc8a55de8f84",
   "metadata": {},
   "outputs": [],
   "source": [
    "REGION = 'us-central1'\n",
    "PROJECT_ID='nguyen-demo5'\n",
    "DATANAME = 'taxi'\n",
    "NOTEBOOK = '03c'\n",
    "\n",
    "# Resources\n",
    "DEPLOY_IMAGE='us-docker.pkg.dev/vertex-ai/prediction/tf2-cpu.2-3:latest'\n",
    "DEPLOY_COMPUTE = 'n1-standard-4'\n",
    "\n",
    "# Model Training\n",
    "VAR_TARGET = 'tips_label'\n",
    "#  Based on the best result among the models, we selected the logistic regression model VERSION 4: taxi_lr_v4 for our online prediction.\n",
    "VAR_OMIT= 'unique_key taxi_id trip_start_timestamp trip_end_timestamp trip_miles pickup_census_tract dropoff_census_tract pickup_community_area dropoff_community_area tips extras trip_total pickup_latitude pickup_longitude dropoff_latitude dropoff_longitude' # add more variables to the string with space delimiters"
   ]
  },
  {
   "cell_type": "markdown",
   "id": "159bd391-e9cc-415f-b72f-ee09f11ea00d",
   "metadata": {},
   "source": [
    "Packages:"
   ]
  },
  {
   "cell_type": "code",
   "execution_count": 2,
   "id": "ba9f574e-07ca-410b-87f2-d2f81dd30ca2",
   "metadata": {},
   "outputs": [],
   "source": [
    "from google.cloud import aiplatform\n",
    "from datetime import datetime\n",
    "from typing import NamedTuple\n",
    "import kfp # used for dsl.pipeline\n",
    "import kfp.v2.dsl as dsl # used for dsl.component, dsl.Output, dsl.Input, dsl.Artifact, dsl.Model, ...\n",
    "from google_cloud_pipeline_components import aiplatform as gcc_aip\n",
    "\n",
    "from google.cloud import bigquery\n",
    "from google.protobuf import json_format\n",
    "from google.protobuf.struct_pb2 import Value\n",
    "import json\n",
    "import numpy as np"
   ]
  },
  {
   "cell_type": "markdown",
   "id": "4f191522-fef0-4307-a3d0-aa856aacea29",
   "metadata": {},
   "source": [
    "Clients:"
   ]
  },
  {
   "cell_type": "code",
   "execution_count": 3,
   "id": "d407421b-64ea-4343-a986-824316435860",
   "metadata": {},
   "outputs": [],
   "source": [
    "aiplatform.init(project=PROJECT_ID, location=REGION)\n",
    "bigquery = bigquery.Client()"
   ]
  },
  {
   "cell_type": "markdown",
   "id": "8d91c676-6374-4068-8d4d-812940d34314",
   "metadata": {},
   "source": [
    "Parameters:"
   ]
  },
  {
   "cell_type": "code",
   "execution_count": 4,
   "id": "dc187b51-af97-4986-b10c-801c1f93798e",
   "metadata": {},
   "outputs": [],
   "source": [
    "TIMESTAMP = datetime.now().strftime(\"%Y%m%d%H%M%S\")\n",
    "BUCKET = PROJECT_ID\n",
    "URI = f\"gs://{BUCKET}/{DATANAME}/models/{NOTEBOOK}\"\n",
    "DIR = f\"temp/{NOTEBOOK}\""
   ]
  },
  {
   "cell_type": "code",
   "execution_count": 5,
   "id": "b97274fb-2bdc-464d-86e2-e7a646f5d936",
   "metadata": {},
   "outputs": [
    {
     "data": {
      "text/plain": [
       "'716133108361-compute@developer.gserviceaccount.com'"
      ]
     },
     "execution_count": 5,
     "metadata": {},
     "output_type": "execute_result"
    }
   ],
   "source": [
    "# Give service account roles/storage.objectAdmin permissions\n",
    "# Console > IMA > Select Account <projectnumber>-compute@developer.gserviceaccount.com > edit - give role\n",
    "SERVICE_ACCOUNT = !gcloud config list --format='value(core.account)' \n",
    "SERVICE_ACCOUNT = SERVICE_ACCOUNT[0]\n",
    "SERVICE_ACCOUNT"
   ]
  },
  {
   "cell_type": "markdown",
   "id": "216391f9-6a15-4887-b0b4-8707fc58e68f",
   "metadata": {},
   "source": [
    "Enviroments:"
   ]
  },
  {
   "cell_type": "code",
   "execution_count": 6,
   "id": "8785f839-a20c-4c4b-ab3b-23a59eef19d4",
   "metadata": {},
   "outputs": [],
   "source": [
    "!rm -rf {DIR}\n",
    "!mkdir -p {DIR}"
   ]
  },
  {
   "cell_type": "markdown",
   "id": "24f78cca-ac29-4cb9-9cfc-f2b3d62ce6bc",
   "metadata": {},
   "source": [
    "---\n",
    "## Custom Components (KFP)\n",
    "Vertex AI Pipelines are made up of components that run independently with inputs and outputs that connect to form a graph - the pipeline. For this notebook workflow the following custom components are used to orchestrate the training of a challenger model, evaluating the challenger and an existing model, comparing them based on model metrics, if the challenger is better then replace the model already deployed on an existing endpoint. These custom components are constructed as python functions!\n",
    "\n",
    "Model Metrics\n",
    "* Get Predictions for Test data from BigQuery Model\n",
    "* Calculate average precision for the precision-recall curve"
   ]
  },
  {
   "cell_type": "code",
   "execution_count": 18,
   "id": "4124b980-cbe5-4506-8256-a73d845e084a",
   "metadata": {},
   "outputs": [],
   "source": [
    "var_target = VAR_TARGET\n",
    "project = PROJECT_ID\n",
    "dataname = DATANAME\n",
    "model= 'taxi_lr_v4'"
   ]
  },
  {
   "cell_type": "code",
   "execution_count": 19,
   "id": "6c5a05ad-6912-46eb-b6c8-dec961250843",
   "metadata": {},
   "outputs": [],
   "source": [
    " query = f\"\"\"\n",
    "    SELECT {var_target}, predicted_{var_target}, prob, splits \n",
    "    FROM ML.PREDICT (MODEL `{project}.{dataname}.{model}`,(\n",
    "        SELECT *\n",
    "        FROM `{project}.{dataname}.{dataname}_prepped`\n",
    "        WHERE splits = 'TEST')\n",
    "      ), UNNEST(predicted_{var_target}_probs)\n",
    "    WHERE label='YES'\n",
    "    \"\"\"\n",
    "pred = bigquery.query(query = query).to_dataframe()\n"
   ]
  },
  {
   "cell_type": "code",
   "execution_count": 20,
   "id": "c460477f-f17f-4931-9b1e-9017e521d5cc",
   "metadata": {},
   "outputs": [
    {
     "data": {
      "text/html": [
       "<div>\n",
       "<style scoped>\n",
       "    .dataframe tbody tr th:only-of-type {\n",
       "        vertical-align: middle;\n",
       "    }\n",
       "\n",
       "    .dataframe tbody tr th {\n",
       "        vertical-align: top;\n",
       "    }\n",
       "\n",
       "    .dataframe thead th {\n",
       "        text-align: right;\n",
       "    }\n",
       "</style>\n",
       "<table border=\"1\" class=\"dataframe\">\n",
       "  <thead>\n",
       "    <tr style=\"text-align: right;\">\n",
       "      <th></th>\n",
       "      <th>tips_label</th>\n",
       "      <th>predicted_tips_label</th>\n",
       "      <th>prob</th>\n",
       "      <th>splits</th>\n",
       "    </tr>\n",
       "  </thead>\n",
       "  <tbody>\n",
       "    <tr>\n",
       "      <th>0</th>\n",
       "      <td>NO</td>\n",
       "      <td>NO</td>\n",
       "      <td>0.002929</td>\n",
       "      <td>TEST</td>\n",
       "    </tr>\n",
       "    <tr>\n",
       "      <th>1</th>\n",
       "      <td>NO</td>\n",
       "      <td>NO</td>\n",
       "      <td>0.002663</td>\n",
       "      <td>TEST</td>\n",
       "    </tr>\n",
       "    <tr>\n",
       "      <th>2</th>\n",
       "      <td>NO</td>\n",
       "      <td>NO</td>\n",
       "      <td>0.002872</td>\n",
       "      <td>TEST</td>\n",
       "    </tr>\n",
       "    <tr>\n",
       "      <th>3</th>\n",
       "      <td>NO</td>\n",
       "      <td>NO</td>\n",
       "      <td>0.002658</td>\n",
       "      <td>TEST</td>\n",
       "    </tr>\n",
       "    <tr>\n",
       "      <th>4</th>\n",
       "      <td>NO</td>\n",
       "      <td>NO</td>\n",
       "      <td>0.002665</td>\n",
       "      <td>TEST</td>\n",
       "    </tr>\n",
       "    <tr>\n",
       "      <th>...</th>\n",
       "      <td>...</td>\n",
       "      <td>...</td>\n",
       "      <td>...</td>\n",
       "      <td>...</td>\n",
       "    </tr>\n",
       "    <tr>\n",
       "      <th>744053</th>\n",
       "      <td>NO</td>\n",
       "      <td>NO</td>\n",
       "      <td>0.008251</td>\n",
       "      <td>TEST</td>\n",
       "    </tr>\n",
       "    <tr>\n",
       "      <th>744054</th>\n",
       "      <td>YES</td>\n",
       "      <td>YES</td>\n",
       "      <td>0.970322</td>\n",
       "      <td>TEST</td>\n",
       "    </tr>\n",
       "    <tr>\n",
       "      <th>744055</th>\n",
       "      <td>NO</td>\n",
       "      <td>NO</td>\n",
       "      <td>0.017442</td>\n",
       "      <td>TEST</td>\n",
       "    </tr>\n",
       "    <tr>\n",
       "      <th>744056</th>\n",
       "      <td>NO</td>\n",
       "      <td>NO</td>\n",
       "      <td>0.008396</td>\n",
       "      <td>TEST</td>\n",
       "    </tr>\n",
       "    <tr>\n",
       "      <th>744057</th>\n",
       "      <td>YES</td>\n",
       "      <td>YES</td>\n",
       "      <td>0.970987</td>\n",
       "      <td>TEST</td>\n",
       "    </tr>\n",
       "  </tbody>\n",
       "</table>\n",
       "<p>744058 rows × 4 columns</p>\n",
       "</div>"
      ],
      "text/plain": [
       "       tips_label predicted_tips_label      prob splits\n",
       "0              NO                   NO  0.002929   TEST\n",
       "1              NO                   NO  0.002663   TEST\n",
       "2              NO                   NO  0.002872   TEST\n",
       "3              NO                   NO  0.002658   TEST\n",
       "4              NO                   NO  0.002665   TEST\n",
       "...           ...                  ...       ...    ...\n",
       "744053         NO                   NO  0.008251   TEST\n",
       "744054        YES                  YES  0.970322   TEST\n",
       "744055         NO                   NO  0.017442   TEST\n",
       "744056         NO                   NO  0.008396   TEST\n",
       "744057        YES                  YES  0.970987   TEST\n",
       "\n",
       "[744058 rows x 4 columns]"
      ]
     },
     "execution_count": 20,
     "metadata": {},
     "output_type": "execute_result"
    }
   ],
   "source": [
    "pred"
   ]
  },
  {
   "cell_type": "code",
   "execution_count": 28,
   "id": "86554c7e-25a1-4b56-a7df-f04ffd0857ba",
   "metadata": {},
   "outputs": [
    {
     "data": {
      "text/html": [
       "<div>\n",
       "<style scoped>\n",
       "    .dataframe tbody tr th:only-of-type {\n",
       "        vertical-align: middle;\n",
       "    }\n",
       "\n",
       "    .dataframe tbody tr th {\n",
       "        vertical-align: top;\n",
       "    }\n",
       "\n",
       "    .dataframe thead th {\n",
       "        text-align: right;\n",
       "    }\n",
       "</style>\n",
       "<table border=\"1\" class=\"dataframe\">\n",
       "  <thead>\n",
       "    <tr style=\"text-align: right;\">\n",
       "      <th></th>\n",
       "      <th>tips_label</th>\n",
       "      <th>predicted_tips_label</th>\n",
       "      <th>prob</th>\n",
       "      <th>splits</th>\n",
       "      <th>tips_label_num</th>\n",
       "    </tr>\n",
       "  </thead>\n",
       "  <tbody>\n",
       "    <tr>\n",
       "      <th>0</th>\n",
       "      <td>NO</td>\n",
       "      <td>NO</td>\n",
       "      <td>0.002929</td>\n",
       "      <td>TEST</td>\n",
       "      <td>0</td>\n",
       "    </tr>\n",
       "    <tr>\n",
       "      <th>1</th>\n",
       "      <td>NO</td>\n",
       "      <td>NO</td>\n",
       "      <td>0.002663</td>\n",
       "      <td>TEST</td>\n",
       "      <td>0</td>\n",
       "    </tr>\n",
       "    <tr>\n",
       "      <th>2</th>\n",
       "      <td>NO</td>\n",
       "      <td>NO</td>\n",
       "      <td>0.002872</td>\n",
       "      <td>TEST</td>\n",
       "      <td>0</td>\n",
       "    </tr>\n",
       "    <tr>\n",
       "      <th>3</th>\n",
       "      <td>NO</td>\n",
       "      <td>NO</td>\n",
       "      <td>0.002658</td>\n",
       "      <td>TEST</td>\n",
       "      <td>0</td>\n",
       "    </tr>\n",
       "    <tr>\n",
       "      <th>4</th>\n",
       "      <td>NO</td>\n",
       "      <td>NO</td>\n",
       "      <td>0.002665</td>\n",
       "      <td>TEST</td>\n",
       "      <td>0</td>\n",
       "    </tr>\n",
       "    <tr>\n",
       "      <th>...</th>\n",
       "      <td>...</td>\n",
       "      <td>...</td>\n",
       "      <td>...</td>\n",
       "      <td>...</td>\n",
       "      <td>...</td>\n",
       "    </tr>\n",
       "    <tr>\n",
       "      <th>744053</th>\n",
       "      <td>NO</td>\n",
       "      <td>NO</td>\n",
       "      <td>0.008251</td>\n",
       "      <td>TEST</td>\n",
       "      <td>0</td>\n",
       "    </tr>\n",
       "    <tr>\n",
       "      <th>744054</th>\n",
       "      <td>YES</td>\n",
       "      <td>YES</td>\n",
       "      <td>0.970322</td>\n",
       "      <td>TEST</td>\n",
       "      <td>1</td>\n",
       "    </tr>\n",
       "    <tr>\n",
       "      <th>744055</th>\n",
       "      <td>NO</td>\n",
       "      <td>NO</td>\n",
       "      <td>0.017442</td>\n",
       "      <td>TEST</td>\n",
       "      <td>0</td>\n",
       "    </tr>\n",
       "    <tr>\n",
       "      <th>744056</th>\n",
       "      <td>NO</td>\n",
       "      <td>NO</td>\n",
       "      <td>0.008396</td>\n",
       "      <td>TEST</td>\n",
       "      <td>0</td>\n",
       "    </tr>\n",
       "    <tr>\n",
       "      <th>744057</th>\n",
       "      <td>YES</td>\n",
       "      <td>YES</td>\n",
       "      <td>0.970987</td>\n",
       "      <td>TEST</td>\n",
       "      <td>1</td>\n",
       "    </tr>\n",
       "  </tbody>\n",
       "</table>\n",
       "<p>744058 rows × 5 columns</p>\n",
       "</div>"
      ],
      "text/plain": [
       "       tips_label predicted_tips_label      prob splits  tips_label_num\n",
       "0              NO                   NO  0.002929   TEST               0\n",
       "1              NO                   NO  0.002663   TEST               0\n",
       "2              NO                   NO  0.002872   TEST               0\n",
       "3              NO                   NO  0.002658   TEST               0\n",
       "4              NO                   NO  0.002665   TEST               0\n",
       "...           ...                  ...       ...    ...             ...\n",
       "744053         NO                   NO  0.008251   TEST               0\n",
       "744054        YES                  YES  0.970322   TEST               1\n",
       "744055         NO                   NO  0.017442   TEST               0\n",
       "744056         NO                   NO  0.008396   TEST               0\n",
       "744057        YES                  YES  0.970987   TEST               1\n",
       "\n",
       "[744058 rows x 5 columns]"
      ]
     },
     "execution_count": 28,
     "metadata": {},
     "output_type": "execute_result"
    }
   ],
   "source": [
    "pred['tips_label_num'] = np.where(\n",
    "    pred['tips_label'] == 'YES', 1, 0)\n",
    "pred"
   ]
  },
  {
   "cell_type": "code",
   "execution_count": 31,
   "id": "85e67de4-3fb4-40d6-b1ee-cc4c7c292b82",
   "metadata": {},
   "outputs": [
    {
     "data": {
      "text/plain": [
       "0         0\n",
       "1         0\n",
       "2         0\n",
       "3         0\n",
       "4         0\n",
       "         ..\n",
       "744053    0\n",
       "744054    1\n",
       "744055    0\n",
       "744056    0\n",
       "744057    1\n",
       "Name: tips_label_num, Length: 744058, dtype: int64"
      ]
     },
     "execution_count": 31,
     "metadata": {},
     "output_type": "execute_result"
    }
   ],
   "source": [
    "pred['tips_label_num']"
   ]
  },
  {
   "cell_type": "code",
   "execution_count": 39,
   "id": "e46789a4-fe3d-4c2f-9d0e-1aebe78c0db7",
   "metadata": {},
   "outputs": [
    {
     "data": {
      "text/plain": [
       "0         0\n",
       "1         0\n",
       "2         0\n",
       "3         0\n",
       "4         0\n",
       "         ..\n",
       "744053    0\n",
       "744054    1\n",
       "744055    0\n",
       "744056    0\n",
       "744057    1\n",
       "Name: tips_label_num, Length: 744058, dtype: int64"
      ]
     },
     "execution_count": 39,
     "metadata": {},
     "output_type": "execute_result"
    }
   ],
   "source": [
    "pred[f'{var_target}_num']"
   ]
  },
  {
   "cell_type": "code",
   "execution_count": 24,
   "id": "a5cf9dbe-4898-4a11-9edc-8cc29f21c83f",
   "metadata": {},
   "outputs": [
    {
     "data": {
      "text/plain": [
       "0         0.002929\n",
       "1         0.002663\n",
       "2         0.002872\n",
       "3         0.002658\n",
       "4         0.002665\n",
       "            ...   \n",
       "744053    0.008251\n",
       "744054    0.970322\n",
       "744055    0.017442\n",
       "744056    0.008396\n",
       "744057    0.970987\n",
       "Name: prob, Length: 744058, dtype: float64"
      ]
     },
     "execution_count": 24,
     "metadata": {},
     "output_type": "execute_result"
    }
   ],
   "source": [
    "pred['prob']"
   ]
  },
  {
   "cell_type": "code",
   "execution_count": 40,
   "id": "5cf83722-8454-4a81-9ed4-a844b45a3cf2",
   "metadata": {},
   "outputs": [],
   "source": [
    "from collections import namedtuple\n",
    "from sklearn.metrics import average_precision_score, confusion_matrix\n",
    "auPRC = average_precision_score(pred[f'{var_target}_num'], pred['prob'], average='micro')"
   ]
  },
  {
   "cell_type": "code",
   "execution_count": 41,
   "id": "3abfb299-f2e2-4bb0-af3f-1b251f9c7e1b",
   "metadata": {},
   "outputs": [
    {
     "data": {
      "text/plain": [
       "0.9774253846153457"
      ]
     },
     "execution_count": 41,
     "metadata": {},
     "output_type": "execute_result"
    }
   ],
   "source": [
    "auPRC"
   ]
  },
  {
   "cell_type": "code",
   "execution_count": 46,
   "id": "570a212b-115a-4481-b35a-6922c6eb4c34",
   "metadata": {},
   "outputs": [
    {
     "ename": "AttributeError",
     "evalue": "module 'sklearn.metrics' has no attribute 'log_metric'",
     "output_type": "error",
     "traceback": [
      "\u001b[0;31m---------------------------------------------------------------------------\u001b[0m",
      "\u001b[0;31mAttributeError\u001b[0m                            Traceback (most recent call last)",
      "\u001b[0;32m/tmp/ipykernel_23966/400862094.py\u001b[0m in \u001b[0;36m<module>\u001b[0;34m\u001b[0m\n\u001b[1;32m      1\u001b[0m \u001b[0;32mfrom\u001b[0m \u001b[0msklearn\u001b[0m \u001b[0;32mimport\u001b[0m \u001b[0mmetrics\u001b[0m\u001b[0;34m\u001b[0m\u001b[0;34m\u001b[0m\u001b[0m\n\u001b[0;32m----> 2\u001b[0;31m \u001b[0mmetrics\u001b[0m\u001b[0;34m.\u001b[0m\u001b[0mlog_metric\u001b[0m\u001b[0;34m(\u001b[0m\u001b[0;34m'auPRC'\u001b[0m\u001b[0;34m,\u001b[0m \u001b[0mauPRC\u001b[0m\u001b[0;34m)\u001b[0m\u001b[0;34m\u001b[0m\u001b[0;34m\u001b[0m\u001b[0m\n\u001b[0m",
      "\u001b[0;31mAttributeError\u001b[0m: module 'sklearn.metrics' has no attribute 'log_metric'"
     ]
    }
   ],
   "source": [
    "from sklearn import metrics\n",
    "metrics.log_metric('auPRC', auPRC)"
   ]
  },
  {
   "cell_type": "code",
   "execution_count": null,
   "id": "de68562d-2bfb-4da5-9402-66497a64227e",
   "metadata": {},
   "outputs": [],
   "source": []
  }
 ],
 "metadata": {
  "environment": {
   "kernel": "python3",
   "name": "tf2-gpu.2-3.m93",
   "type": "gcloud",
   "uri": "gcr.io/deeplearning-platform-release/tf2-gpu.2-3:m93"
  },
  "kernelspec": {
   "display_name": "Python 3",
   "language": "python",
   "name": "python3"
  },
  "language_info": {
   "codemirror_mode": {
    "name": "ipython",
    "version": 3
   },
   "file_extension": ".py",
   "mimetype": "text/x-python",
   "name": "python",
   "nbconvert_exporter": "python",
   "pygments_lexer": "ipython3",
   "version": "3.7.12"
  }
 },
 "nbformat": 4,
 "nbformat_minor": 5
}
